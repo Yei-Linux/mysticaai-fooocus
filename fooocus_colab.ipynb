{
  "cells": [
    {
      "cell_type": "markdown",
      "metadata": {
        "id": "UU4VQX2uMTJh"
      },
      "source": [
        "Prepare"
      ]
    },
    {
      "cell_type": "code",
      "execution_count": null,
      "metadata": {
        "id": "VjYy0F2gZIPR"
      },
      "outputs": [],
      "source": [
        "import os\n",
        "from getpass import getpass\n",
        "user = getpass('GitHub user')\n",
        "password = getpass('GitHub password')\n",
        "os.environ['GITHUB_AUTH'] = user + ':' + password\n",
        "\n",
        "!pip install pygit2==1.12.2\n",
        "%cd /content\n",
        "!git clone https://$GITHUB_AUTH@github.com/GrupoSiCode/MysticaAI\n",
        "%cd /content/MysticaAI"
      ]
    },
    {
      "cell_type": "code",
      "execution_count": null,
      "metadata": {},
      "outputs": [],
      "source": [
        "!git fetch\n",
        "!git checkout features/login\n",
        "!git pull origin features/login"
      ]
    },
    {
      "cell_type": "markdown",
      "metadata": {
        "id": "NBIrweiOMYFl"
      },
      "source": [
        "Run"
      ]
    },
    {
      "cell_type": "code",
      "execution_count": null,
      "metadata": {
        "id": "gPZEYpsfMDxQ"
      },
      "outputs": [],
      "source": [
        "!python entry_with_update.py --share --always-high-vram"
      ]
    }
  ],
  "metadata": {
    "accelerator": "GPU",
    "colab": {
      "gpuType": "T4",
      "provenance": [
        {
          "file_id": "https://github.com/mashb1t/Fooocus/blob/main/fooocus_colab.ipynb",
          "timestamp": 1703545226503
        }
      ]
    },
    "kernelspec": {
      "display_name": "Python 3",
      "name": "python3"
    },
    "language_info": {
      "name": "python"
    }
  },
  "nbformat": 4,
  "nbformat_minor": 0
}
